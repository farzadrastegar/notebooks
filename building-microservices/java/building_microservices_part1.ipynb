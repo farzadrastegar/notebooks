{
  "nbformat": 4,
  "nbformat_minor": 0,
  "metadata": {
    "colab": {
      "name": "building-microservices-part1.ipynb",
      "provenance": [],
      "collapsed_sections": []
    },
    "kernelspec": {
      "name": "python3",
      "display_name": "Python 3"
    }
  },
  "cells": [
    {
      "cell_type": "code",
      "metadata": {
        "id": "COefuQiSF3CN",
        "colab_type": "code",
        "colab": {
          "base_uri": "https://localhost:8080/",
          "height": 119
        },
        "outputId": "5f93e69f-2dff-4711-c35b-cd7ccbeb1b34"
      },
      "source": [
        "# Get code \n",
        "!cd && git clone https://github.com/callistaenterprise/blog-microservices.git\n",
        "!cd && cd blog-microservices && git checkout -b B1 M1.1"
      ],
      "execution_count": 4,
      "outputs": [
        {
          "output_type": "stream",
          "text": [
            "Cloning into 'blog-microservices'...\n",
            "remote: Enumerating objects: 6218, done.\u001b[K\n",
            "Receiving objects:   0% (1/6218)   \rReceiving objects:   1% (63/6218)   \rReceiving objects:   2% (125/6218)   \rReceiving objects:   3% (187/6218)   \rReceiving objects:   4% (249/6218)   \rReceiving objects:   5% (311/6218)   \rReceiving objects:   6% (374/6218)   \rReceiving objects:   7% (436/6218)   \rReceiving objects:   8% (498/6218)   \rReceiving objects:   9% (560/6218)   \rReceiving objects:  10% (622/6218)   \rReceiving objects:  11% (684/6218)   \rReceiving objects:  12% (747/6218)   \rReceiving objects:  13% (809/6218)   \rReceiving objects:  14% (871/6218)   \rReceiving objects:  15% (933/6218)   \rReceiving objects:  16% (995/6218)   \rReceiving objects:  17% (1058/6218)   \rReceiving objects:  18% (1120/6218)   \rReceiving objects:  19% (1182/6218)   \rReceiving objects:  20% (1244/6218)   \rReceiving objects:  21% (1306/6218)   \rReceiving objects:  22% (1368/6218)   \rReceiving objects:  23% (1431/6218)   \rReceiving objects:  24% (1493/6218)   \rReceiving objects:  25% (1555/6218)   \rReceiving objects:  26% (1617/6218)   \rReceiving objects:  27% (1679/6218)   \rReceiving objects:  28% (1742/6218)   \rReceiving objects:  29% (1804/6218)   \rReceiving objects:  30% (1866/6218)   \rReceiving objects:  31% (1928/6218)   \rReceiving objects:  32% (1990/6218)   \rReceiving objects:  33% (2052/6218)   \rReceiving objects:  34% (2115/6218)   \rReceiving objects:  35% (2177/6218)   \rReceiving objects:  36% (2239/6218)   \rReceiving objects:  37% (2301/6218)   \rReceiving objects:  38% (2363/6218)   \rReceiving objects:  39% (2426/6218)   \rReceiving objects:  40% (2488/6218)   \rReceiving objects:  41% (2550/6218)   \rReceiving objects:  42% (2612/6218)   \rReceiving objects:  43% (2674/6218)   \rReceiving objects:  44% (2736/6218)   \rReceiving objects:  45% (2799/6218)   \rReceiving objects:  46% (2861/6218)   \rReceiving objects:  47% (2923/6218)   \rReceiving objects:  48% (2985/6218)   \rReceiving objects:  49% (3047/6218)   \rReceiving objects:  50% (3109/6218)   \rReceiving objects:  51% (3172/6218)   \rReceiving objects:  52% (3234/6218)   \rReceiving objects:  53% (3296/6218)   \rReceiving objects:  54% (3358/6218)   \rReceiving objects:  55% (3420/6218)   \rReceiving objects:  56% (3483/6218)   \rReceiving objects:  57% (3545/6218)   \rReceiving objects:  58% (3607/6218)   \rReceiving objects:  59% (3669/6218)   \rReceiving objects:  60% (3731/6218)   \rReceiving objects:  61% (3793/6218)   \rReceiving objects:  62% (3856/6218)   \rReceiving objects:  63% (3918/6218)   \rReceiving objects:  64% (3980/6218)   \rReceiving objects:  65% (4042/6218)   \rReceiving objects:  66% (4104/6218)   \rReceiving objects:  67% (4167/6218)   \rReceiving objects:  68% (4229/6218)   \rReceiving objects:  69% (4291/6218)   \rReceiving objects:  70% (4353/6218)   \rReceiving objects:  71% (4415/6218)   \rReceiving objects:  72% (4477/6218)   \rReceiving objects:  73% (4540/6218)   \rReceiving objects:  74% (4602/6218)   \rReceiving objects:  75% (4664/6218)   \rReceiving objects:  76% (4726/6218)   \rReceiving objects:  77% (4788/6218)   \rReceiving objects:  78% (4851/6218)   \rReceiving objects:  79% (4913/6218)   \rReceiving objects:  80% (4975/6218)   \rReceiving objects:  81% (5037/6218)   \rReceiving objects:  82% (5099/6218)   \rReceiving objects:  83% (5161/6218)   \rReceiving objects:  84% (5224/6218)   \rReceiving objects:  85% (5286/6218)   \rReceiving objects:  86% (5348/6218)   \rReceiving objects:  87% (5410/6218)   \rReceiving objects:  88% (5472/6218)   \rReceiving objects:  89% (5535/6218)   \rReceiving objects:  90% (5597/6218)   \rReceiving objects:  91% (5659/6218)   \rReceiving objects:  92% (5721/6218)   \rReceiving objects:  93% (5783/6218)   \rReceiving objects:  94% (5845/6218)   \rReceiving objects:  95% (5908/6218)   \rremote: Total 6218 (delta 0), reused 0 (delta 0), pack-reused 6218\u001b[K\n",
            "Receiving objects:  96% (5970/6218)   \rReceiving objects:  97% (6032/6218)   \rReceiving objects:  98% (6094/6218)   \rReceiving objects:  99% (6156/6218)   \rReceiving objects: 100% (6218/6218)   \rReceiving objects: 100% (6218/6218), 1.18 MiB | 8.61 MiB/s, done.\n",
            "Resolving deltas:   0% (0/2257)   \rResolving deltas:   1% (32/2257)   \rResolving deltas:   2% (46/2257)   \rResolving deltas:   3% (69/2257)   \rResolving deltas:   4% (96/2257)   \rResolving deltas:   5% (124/2257)   \rResolving deltas:   6% (144/2257)   \rResolving deltas:  11% (251/2257)   \rResolving deltas:  14% (336/2257)   \rResolving deltas:  15% (344/2257)   \rResolving deltas:  16% (373/2257)   \rResolving deltas:  17% (385/2257)   \rResolving deltas:  18% (415/2257)   \rResolving deltas:  19% (430/2257)   \rResolving deltas:  20% (452/2257)   \rResolving deltas:  21% (474/2257)   \rResolving deltas:  22% (512/2257)   \rResolving deltas:  23% (530/2257)   \rResolving deltas:  25% (573/2257)   \rResolving deltas:  26% (599/2257)   \rResolving deltas:  27% (614/2257)   \rResolving deltas:  28% (644/2257)   \rResolving deltas:  29% (655/2257)   \rResolving deltas:  30% (697/2257)   \rResolving deltas:  31% (704/2257)   \rResolving deltas:  32% (724/2257)   \rResolving deltas:  33% (745/2257)   \rResolving deltas:  35% (793/2257)   \rResolving deltas:  36% (821/2257)   \rResolving deltas:  37% (848/2257)   \rResolving deltas:  39% (884/2257)   \rResolving deltas:  42% (948/2257)   \rResolving deltas:  43% (977/2257)   \rResolving deltas:  44% (995/2257)   \rResolving deltas:  46% (1048/2257)   \rResolving deltas:  47% (1061/2257)   \rResolving deltas:  48% (1091/2257)   \rResolving deltas:  49% (1127/2257)   \rResolving deltas:  50% (1134/2257)   \rResolving deltas:  51% (1154/2257)   \rResolving deltas:  53% (1205/2257)   \rResolving deltas:  54% (1225/2257)   \rResolving deltas:  55% (1253/2257)   \rResolving deltas:  56% (1279/2257)   \rResolving deltas:  57% (1288/2257)   \rResolving deltas:  58% (1311/2257)   \rResolving deltas:  59% (1336/2257)   \rResolving deltas:  60% (1359/2257)   \rResolving deltas:  61% (1382/2257)   \rResolving deltas:  65% (1470/2257)   \rResolving deltas:  66% (1499/2257)   \rResolving deltas:  67% (1529/2257)   \rResolving deltas:  68% (1536/2257)   \rResolving deltas:  69% (1560/2257)   \rResolving deltas:  70% (1586/2257)   \rResolving deltas:  71% (1612/2257)   \rResolving deltas:  73% (1648/2257)   \rResolving deltas:  74% (1676/2257)   \rResolving deltas:  75% (1694/2257)   \rResolving deltas:  77% (1754/2257)   \rResolving deltas:  78% (1765/2257)   \rResolving deltas:  79% (1793/2257)   \rResolving deltas:  80% (1822/2257)   \rResolving deltas:  81% (1830/2257)   \rResolving deltas:  82% (1852/2257)   \rResolving deltas:  83% (1875/2257)   \rResolving deltas:  84% (1901/2257)   \rResolving deltas:  85% (1931/2257)   \rResolving deltas:  87% (1969/2257)   \rResolving deltas:  88% (1998/2257)   \rResolving deltas:  89% (2010/2257)   \rResolving deltas:  90% (2032/2257)   \rResolving deltas:  91% (2069/2257)   \rResolving deltas:  92% (2079/2257)   \rResolving deltas:  93% (2101/2257)   \rResolving deltas:  94% (2122/2257)   \rResolving deltas:  95% (2145/2257)   \rResolving deltas:  96% (2184/2257)   \rResolving deltas:  97% (2191/2257)   \rResolving deltas:  98% (2212/2257)   \rResolving deltas:  99% (2236/2257)   \rResolving deltas: 100% (2257/2257)   \rResolving deltas: 100% (2257/2257), done.\n",
            "Switched to a new branch 'B1'\n"
          ],
          "name": "stdout"
        }
      ]
    },
    {
      "cell_type": "code",
      "metadata": {
        "id": "skpdnBqnGCqs",
        "colab_type": "code",
        "colab": {
          "base_uri": "https://localhost:8080/",
          "height": 1000
        },
        "outputId": "7d449e7c-cdc7-42aa-d438-20079e0f4499"
      },
      "source": [
        "# Install Java 8\n",
        "!cd && wget https://www.dropbox.com/s/u01js72eg57tjep/install-java8.bash\n",
        "!cd && chmod 755 install-java8.bash\n",
        "!cd && ./install-java8.bash"
      ],
      "execution_count": 5,
      "outputs": [
        {
          "output_type": "stream",
          "text": [
            "--2020-05-04 09:52:00--  https://www.dropbox.com/s/u01js72eg57tjep/install-java8.bash\n",
            "Resolving www.dropbox.com (www.dropbox.com)... 162.125.3.1, 2620:100:6018:1::a27d:301\n",
            "Connecting to www.dropbox.com (www.dropbox.com)|162.125.3.1|:443... connected.\n",
            "HTTP request sent, awaiting response... 301 Moved Permanently\n",
            "Location: /s/raw/u01js72eg57tjep/install-java8.bash [following]\n",
            "--2020-05-04 09:52:00--  https://www.dropbox.com/s/raw/u01js72eg57tjep/install-java8.bash\n",
            "Reusing existing connection to www.dropbox.com:443.\n",
            "HTTP request sent, awaiting response... 302 Found\n",
            "Location: https://uc9a08ca6e50c2f8235c6abac589.dl.dropboxusercontent.com/cd/0/inline/A3FKROj25Eix4dICTM0I1G-JAk3OKSfBnN8NKY7SEmpz5C-armuYrOLZLrg8BjSpqthal_-VcX-EKWQWifaBIVueHiWNbRPLkxeDSW3i1BAt-cWk9EWcxzS_jPel7j4uwWQ/file# [following]\n",
            "--2020-05-04 09:52:00--  https://uc9a08ca6e50c2f8235c6abac589.dl.dropboxusercontent.com/cd/0/inline/A3FKROj25Eix4dICTM0I1G-JAk3OKSfBnN8NKY7SEmpz5C-armuYrOLZLrg8BjSpqthal_-VcX-EKWQWifaBIVueHiWNbRPLkxeDSW3i1BAt-cWk9EWcxzS_jPel7j4uwWQ/file\n",
            "Resolving uc9a08ca6e50c2f8235c6abac589.dl.dropboxusercontent.com (uc9a08ca6e50c2f8235c6abac589.dl.dropboxusercontent.com)... 162.125.8.6, 2620:100:6018:6::a27d:306\n",
            "Connecting to uc9a08ca6e50c2f8235c6abac589.dl.dropboxusercontent.com (uc9a08ca6e50c2f8235c6abac589.dl.dropboxusercontent.com)|162.125.8.6|:443... connected.\n",
            "HTTP request sent, awaiting response... 200 OK\n",
            "Length: 584 [text/plain]\n",
            "Saving to: ‘install-java8.bash’\n",
            "\n",
            "install-java8.bash  100%[===================>]     584  --.-KB/s    in 0s      \n",
            "\n",
            "2020-05-04 09:52:01 (66.2 MB/s) - ‘install-java8.bash’ saved [584/584]\n",
            "\n",
            "--2020-05-04 09:52:03--  https://www.dropbox.com/s/u21631du7ym6acj/jdk-8u102-linux-x64.tar.gz\n",
            "Resolving www.dropbox.com (www.dropbox.com)... 162.125.3.1, 2620:100:6018:1::a27d:301\n",
            "Connecting to www.dropbox.com (www.dropbox.com)|162.125.3.1|:443... connected.\n",
            "HTTP request sent, awaiting response... 301 Moved Permanently\n",
            "Location: /s/raw/u21631du7ym6acj/jdk-8u102-linux-x64.tar.gz [following]\n",
            "--2020-05-04 09:52:03--  https://www.dropbox.com/s/raw/u21631du7ym6acj/jdk-8u102-linux-x64.tar.gz\n",
            "Reusing existing connection to www.dropbox.com:443.\n",
            "HTTP request sent, awaiting response... 302 Found\n",
            "Location: https://uc465fea8727d354d52f897e69bb.dl.dropboxusercontent.com/cd/0/inline/A3FVnc0jAA19xV3BcuCSQAKsydxzeA9CLjZ_MkmOJhZ-msKDDdkEmQHzEA2FhjRFk4ooGe1edy570cF8kM49Zqq77V8XHYYetlKEoKd6QG8QojwnAGdGATPq6r_H91TFIzU/file# [following]\n",
            "--2020-05-04 09:52:03--  https://uc465fea8727d354d52f897e69bb.dl.dropboxusercontent.com/cd/0/inline/A3FVnc0jAA19xV3BcuCSQAKsydxzeA9CLjZ_MkmOJhZ-msKDDdkEmQHzEA2FhjRFk4ooGe1edy570cF8kM49Zqq77V8XHYYetlKEoKd6QG8QojwnAGdGATPq6r_H91TFIzU/file\n",
            "Resolving uc465fea8727d354d52f897e69bb.dl.dropboxusercontent.com (uc465fea8727d354d52f897e69bb.dl.dropboxusercontent.com)... 162.125.3.6, 2620:100:6018:6::a27d:306\n",
            "Connecting to uc465fea8727d354d52f897e69bb.dl.dropboxusercontent.com (uc465fea8727d354d52f897e69bb.dl.dropboxusercontent.com)|162.125.3.6|:443... connected.\n",
            "HTTP request sent, awaiting response... 302 FOUND\n",
            "Location: /cd/0/inline2/A3E5dDh7Pt0z1IMMSQwHhA5mBB6J-dC5W8CQc3MsxNkVONkmlbaVn7FDol6loXN8nsOSOGcI3v6O7J8nRI0uL4Y7BzxK5ZG-5HJBWLKTcOa6TlZJQhKJ-zkxaZRNtQoIBYslEdREIWB0qeJpMp4_g1xdKbEfexn0jca3IaIfAiupj1zHA498qVEjDst7t-cAenPMjFR-W30C26U8ebax7rIgHCUcyht28-jtsjxuq1Twc3gw9Bd8fErWaBOy7MyjPM0O6x7TW9WQXeMp5chG_0Oii0Xy-bEUtFXITDvg2FLOjdL5_1usj3NF0f5HvNNCAJKi9oVlYbTGTAfPzYay3ajawLHjl3KdH4FIvbaHV6KEbg/file [following]\n",
            "--2020-05-04 09:52:04--  https://uc465fea8727d354d52f897e69bb.dl.dropboxusercontent.com/cd/0/inline2/A3E5dDh7Pt0z1IMMSQwHhA5mBB6J-dC5W8CQc3MsxNkVONkmlbaVn7FDol6loXN8nsOSOGcI3v6O7J8nRI0uL4Y7BzxK5ZG-5HJBWLKTcOa6TlZJQhKJ-zkxaZRNtQoIBYslEdREIWB0qeJpMp4_g1xdKbEfexn0jca3IaIfAiupj1zHA498qVEjDst7t-cAenPMjFR-W30C26U8ebax7rIgHCUcyht28-jtsjxuq1Twc3gw9Bd8fErWaBOy7MyjPM0O6x7TW9WQXeMp5chG_0Oii0Xy-bEUtFXITDvg2FLOjdL5_1usj3NF0f5HvNNCAJKi9oVlYbTGTAfPzYay3ajawLHjl3KdH4FIvbaHV6KEbg/file\n",
            "Reusing existing connection to uc465fea8727d354d52f897e69bb.dl.dropboxusercontent.com:443.\n",
            "HTTP request sent, awaiting response... 200 OK\n",
            "Length: 181435897 (173M) [application/octet-stream]\n",
            "Saving to: ‘jdk-8u102-linux-x64.tar.gz’\n",
            "\n",
            "jdk-8u102-linux-x64 100%[===================>] 173.03M  46.4MB/s    in 3.7s    \n",
            "\n",
            "2020-05-04 09:52:08 (46.4 MB/s) - ‘jdk-8u102-linux-x64.tar.gz’ saved [181435897/181435897]\n",
            "\n",
            "update-alternatives: using /opt/jdk/jdk1.8.0_102/bin/java to provide /usr/bin/java (java) in auto mode\n",
            "Get:1 http://security.ubuntu.com/ubuntu bionic-security InRelease [88.7 kB]\n",
            "Get:2 https://cloud.r-project.org/bin/linux/ubuntu bionic-cran35/ InRelease [3,626 B]\n",
            "Ign:3 https://developer.download.nvidia.com/compute/cuda/repos/ubuntu1804/x86_64  InRelease\n",
            "Ign:4 https://developer.download.nvidia.com/compute/machine-learning/repos/ubuntu1804/x86_64  InRelease\n",
            "Get:5 http://ppa.launchpad.net/graphics-drivers/ppa/ubuntu bionic InRelease [21.3 kB]\n",
            "Hit:6 http://archive.ubuntu.com/ubuntu bionic InRelease\n",
            "Hit:7 https://developer.download.nvidia.com/compute/cuda/repos/ubuntu1804/x86_64  Release\n",
            "Hit:8 https://developer.download.nvidia.com/compute/machine-learning/repos/ubuntu1804/x86_64  Release\n",
            "Get:9 http://archive.ubuntu.com/ubuntu bionic-updates InRelease [88.7 kB]\n",
            "Get:10 https://cloud.r-project.org/bin/linux/ubuntu bionic-cran35/ Packages [91.7 kB]\n",
            "Get:11 http://ppa.launchpad.net/marutter/c2d4u3.5/ubuntu bionic InRelease [15.4 kB]\n",
            "Get:12 http://security.ubuntu.com/ubuntu bionic-security/restricted amd64 Packages [52.4 kB]\n",
            "Get:13 http://security.ubuntu.com/ubuntu bionic-security/universe amd64 Packages [844 kB]\n",
            "Get:14 http://archive.ubuntu.com/ubuntu bionic-backports InRelease [74.6 kB]\n",
            "Get:15 http://security.ubuntu.com/ubuntu bionic-security/main amd64 Packages [908 kB]\n",
            "Get:16 http://security.ubuntu.com/ubuntu bionic-security/multiverse amd64 Packages [8,505 B]\n",
            "Get:19 http://ppa.launchpad.net/graphics-drivers/ppa/ubuntu bionic/main amd64 Packages [37.4 kB]\n",
            "Get:20 http://archive.ubuntu.com/ubuntu bionic-updates/main amd64 Packages [1,205 kB]\n",
            "Get:21 http://ppa.launchpad.net/marutter/c2d4u3.5/ubuntu bionic/main Sources [1,814 kB]\n",
            "Get:22 http://archive.ubuntu.com/ubuntu bionic-updates/universe amd64 Packages [1,376 kB]\n",
            "Get:23 http://archive.ubuntu.com/ubuntu bionic-updates/multiverse amd64 Packages [19.8 kB]\n",
            "Get:24 http://archive.ubuntu.com/ubuntu bionic-updates/restricted amd64 Packages [66.6 kB]\n",
            "Get:25 http://archive.ubuntu.com/ubuntu bionic-backports/universe amd64 Packages [8,158 B]\n",
            "Get:26 http://archive.ubuntu.com/ubuntu bionic-backports/main amd64 Packages [8,286 B]\n",
            "Get:27 http://ppa.launchpad.net/marutter/c2d4u3.5/ubuntu bionic/main amd64 Packages [875 kB]\n",
            "Fetched 7,607 kB in 4s (2,160 kB/s)\n",
            "Reading package lists... Done\n",
            "Building dependency tree       \n",
            "Reading state information... Done\n",
            "111 packages can be upgraded. Run 'apt list --upgradable' to see them.\n",
            "java version \"1.8.0_102\"\n",
            "Java(TM) SE Runtime Environment (build 1.8.0_102-b14)\n",
            "Java HotSpot(TM) 64-Bit Server VM (build 25.102-b14, mixed mode)\n"
          ],
          "name": "stdout"
        }
      ]
    },
    {
      "cell_type": "code",
      "metadata": {
        "id": "Q6QaMwbfGftn",
        "colab_type": "code",
        "colab": {}
      },
      "source": [
        "# Build code\n",
        "!cd && cd blog-microservices && nohup ./build-all.sh >out-build 2>&1 &"
      ],
      "execution_count": 0,
      "outputs": []
    },
    {
      "cell_type": "code",
      "metadata": {
        "id": "78UrqJuiJ7Ew",
        "colab_type": "code",
        "colab": {}
      },
      "source": [
        "!cd && cd blog-microservices/microservices && cd support/discovery-server; nohup ./gradlew bootRun >out 2>&1 &\n",
        "!cd && cd blog-microservices/microservices && cd support/edge-server; nohup ./gradlew bootRun >out 2>&1 &\n",
        "!cd && cd blog-microservices/microservices && cd core/product-service; nohup ./gradlew bootRun >out 2>&1 &\n",
        "!cd && cd blog-microservices/microservices && cd core/recommendation-service; nohup ./gradlew bootRun >out 2>&1 &\n",
        "!cd && cd blog-microservices/microservices && cd core/review-service; nohup ./gradlew bootRun >out 2>&1 &\n",
        "!cd && cd blog-microservices/microservices && cd composite/product-composite-service; nohup ./gradlew bootRun >out 2>&1 &"
      ],
      "execution_count": 0,
      "outputs": []
    },
    {
      "cell_type": "code",
      "metadata": {
        "id": "B-3-G5RNK_l5",
        "colab_type": "code",
        "colab": {
          "base_uri": "https://localhost:8080/",
          "height": 255
        },
        "outputId": "a8de269c-c46b-4b72-bc56-6218081fb135"
      },
      "source": [
        "# Get Eureka URL\n",
        "\n",
        "## Install ngrok\n",
        "!wget https://bin.equinox.io/c/4VmDzA7iaHb/ngrok-stable-linux-amd64.zip\n",
        "!unzip ngrok-stable-linux-amd64.zip\n",
        "\n",
        "## Run ngrok to tunnel Dash app port 8761 to the outside world. \n",
        "## This command runs in the background.\n",
        "get_ipython().system_raw('./ngrok http 8761 &')\n",
        "\n",
        "## Get the public URL where you can access the Dash app. Copy this URL.\n",
        "! curl -s http://localhost:4040/api/tunnels | python3 -c \\\n",
        "    \"import sys, json; print(json.load(sys.stdin)['tunnels'][0]['public_url'])\""
      ],
      "execution_count": 11,
      "outputs": [
        {
          "output_type": "stream",
          "text": [
            "--2020-05-04 10:12:21--  https://bin.equinox.io/c/4VmDzA7iaHb/ngrok-stable-linux-amd64.zip\n",
            "Resolving bin.equinox.io (bin.equinox.io)... 52.2.164.113, 34.194.73.153, 34.202.138.174, ...\n",
            "Connecting to bin.equinox.io (bin.equinox.io)|52.2.164.113|:443... connected.\n",
            "HTTP request sent, awaiting response... 200 OK\n",
            "Length: 13773305 (13M) [application/octet-stream]\n",
            "Saving to: ‘ngrok-stable-linux-amd64.zip’\n",
            "\n",
            "ngrok-stable-linux- 100%[===================>]  13.13M  31.1MB/s    in 0.4s    \n",
            "\n",
            "2020-05-04 10:12:22 (31.1 MB/s) - ‘ngrok-stable-linux-amd64.zip’ saved [13773305/13773305]\n",
            "\n",
            "Archive:  ngrok-stable-linux-amd64.zip\n",
            "  inflating: ngrok                   \n",
            "https://d8f2f7b1.ngrok.io\n"
          ],
          "name": "stdout"
        }
      ]
    }
  ]
}
