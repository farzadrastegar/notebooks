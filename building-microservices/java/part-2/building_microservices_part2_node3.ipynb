{
 "cells": [
  {
   "cell_type": "code",
   "execution_count": null,
   "metadata": {},
   "outputs": [],
   "source": [
    "# Install necessary packages\n",
    "!sudo apt update\n",
    "!sudo apt install wget git curl -y"
   ]
  },
  {
   "cell_type": "code",
   "execution_count": null,
   "metadata": {
    "scrolled": true
   },
   "outputs": [],
   "source": [
    "# Install Java 8\n",
    "!sudo wget https://www.dropbox.com/s/u01js72eg57tjep/install-java8.bash\n",
    "!sudo chmod 755 install-java8.bash\n",
    "!sudo ./install-java8.bash"
   ]
  },
  {
   "cell_type": "code",
   "execution_count": null,
   "metadata": {},
   "outputs": [],
   "source": [
    "# Get code\n",
    "!sudo git clone https://github.com/farzadrastegar/blog-microservices.git && cd blog-microservices && sudo git checkout B2F"
   ]
  },
  {
   "cell_type": "code",
   "execution_count": null,
   "metadata": {},
   "outputs": [],
   "source": [
    "# Build code\n",
    "!cd && cd blog-microservices && sudo ./build-all.sh"
   ]
  },
  {
   "cell_type": "code",
   "execution_count": null,
   "metadata": {},
   "outputs": [],
   "source": [
    "# Run the product service\n",
    "#Use the command below to replace your eureka ip address\n",
    "#!cd && cd blog-microservices/microservices/core/product-service && sed -i -e 's/192.168.0.8/YOUR_EUREKA_IP_ADDRESS_HERE/' ./src/main/resources/application.yml\n",
    "!cd && echo \"#!/bin/bash\" > run-product.bash\n",
    "!cd && echo \"cd; cd blog-microservices/microservices/core/product-service; sudo touch out; sudo chmod 666 out; nohup sudo ./gradlew bootRun >out 2>&1 &\" >> run-product.bash\n",
    "!cd && sudo chmod 755 run-product.bash && sudo ./run-product.bash\n"
   ]
  },
  {
   "cell_type": "code",
   "execution_count": null,
   "metadata": {},
   "outputs": [],
   "source": [
    "# Run the recommendation service\n",
    "#Use the command below to replace your eureka ip address\n",
    "#!cd && cd blog-microservices/microservices/core/recommendation-service && sed -i -e 's/192.168.0.8/YOUR_EUREKA_IP_ADDRESS_HERE/' ./src/main/resources/application.yml\n",
    "!cd && echo \"#!/bin/bash\" > run-recommendation.bash\n",
    "!cd && echo \"cd; cd blog-microservices/microservices/core/recommendation-service; sudo touch out; sudo chmod 666 out; nohup sudo ./gradlew bootRun >out 2>&1 &\" >> run-recommendation.bash\n",
    "!cd && sudo chmod 755 run-recommendation.bash && sudo ./run-recommendation.bash\n"
   ]
  },
  {
   "cell_type": "code",
   "execution_count": null,
   "metadata": {},
   "outputs": [],
   "source": [
    "# Run the review service\n",
    "#Use the command below to replace your eureka ip address\n",
    "#!cd && cd blog-microservices/microservices/core/review-service && sed -i -e 's/192.168.0.8/YOUR_EUREKA_IP_ADDRESS_HERE/' ./src/main/resources/application.yml\n",
    "!cd && echo \"#!/bin/bash\" > run-review.bash\n",
    "!cd && echo \"cd; cd blog-microservices/microservices/core/review-service; sudo touch out; sudo chmod 666 out; nohup sudo ./gradlew bootRun >out 2>&1 &\" >> run-review.bash\n",
    "!cd && sudo chmod 755 run-review.bash && sudo ./run-review.bash\n"
   ]
  }
 ],
 "metadata": {
  "kernelspec": {
   "display_name": "Python 3",
   "language": "python",
   "name": "python3"
  },
  "language_info": {
   "codemirror_mode": {
    "name": "ipython",
    "version": 3
   },
   "file_extension": ".py",
   "mimetype": "text/x-python",
   "name": "python",
   "nbconvert_exporter": "python",
   "pygments_lexer": "ipython3",
   "version": "3.7.6"
  }
 },
 "nbformat": 4,
 "nbformat_minor": 4
}
